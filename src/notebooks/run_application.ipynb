{
 "cells": [
  {
   "cell_type": "markdown",
   "metadata": {},
   "source": [
    "# Run Application"
   ]
  },
  {
   "cell_type": "code",
   "execution_count": 1,
   "metadata": {},
   "outputs": [],
   "source": [
    "import sys\n",
    "\n",
    "sys.path.append(\"/home/user/path\")\n",
    "\n",
    "from utils.logging_utils import logger\n",
    "\n",
    "import torch\n",
    "from application.chatbot import ChatBot\n",
    "from application.knowledge_base import KnowledgeBase\n",
    "from application.communcation_handler import CommunicationHandler\n",
    "from application.chains import DocumentChain, ProductChain, Judge\n",
    "from utils.utils import token_count\n",
    "from application.models import setup_models\n",
    "from transformers import BertTokenizer"
   ]
  },
  {
   "cell_type": "markdown",
   "metadata": {},
   "source": [
    "## Setup"
   ]
  },
  {
   "cell_type": "markdown",
   "metadata": {},
   "source": [
    "### Models"
   ]
  },
  {
   "cell_type": "code",
   "execution_count": 2,
   "metadata": {},
   "outputs": [
    {
     "name": "stderr",
     "output_type": "stream",
     "text": [
      "ggml_init_cublas: GGML_CUDA_FORCE_MMQ:   no\n",
      "ggml_init_cublas: CUDA_USE_TENSOR_CORES: yes\n",
      "ggml_init_cublas: found 1 CUDA devices:\n",
      "  Device 0: NVIDIA GeForce RTX 3060 Laptop GPU, compute capability 8.6, VMM: yes\n"
     ]
    }
   ],
   "source": [
    "embedding_model, llm = setup_models()"
   ]
  },
  {
   "cell_type": "code",
   "execution_count": 3,
   "metadata": {},
   "outputs": [],
   "source": [
    "path_kb = \"/path/knowledge_base\"\n",
    "path_sql_db = path_kb + \"/path/sqlite_db.db\"\n",
    "path_vector_store = path_kb + \"/chroma_db\"\n",
    "path_email_storage = path_kb + \"/email_storage\"\n",
    "\n",
    "kb = KnowledgeBase(\n",
    "    path_sql_db=path_sql_db,\n",
    "    path_vector_store=path_vector_store,\n",
    "    path_email_storage=path_email_storage,\n",
    "    embedding_model=embedding_model,\n",
    ")\n",
    "doc_chain = DocumentChain(retriever=kb.retriever, llm=llm)\n",
    "product_chain = ProductChain(llm=llm)\n",
    "judge = Judge(llm=llm)"
   ]
  },
  {
   "cell_type": "code",
   "execution_count": 4,
   "metadata": {},
   "outputs": [],
   "source": [
    "bot = ChatBot(\n",
    "    llm=llm,\n",
    "    knowledge_base=kb,\n",
    "    document_chain=doc_chain,\n",
    "    product_chain=product_chain,\n",
    "    judge=judge,\n",
    ")"
   ]
  },
  {
   "cell_type": "code",
   "execution_count": 5,
   "metadata": {},
   "outputs": [
    {
     "name": "stdout",
     "output_type": "stream",
     "text": [
      "---------------------------------------------------------------------------------\n",
      "Willkommen zum ChatBot 🦜. Wie kann ich heute helfen?\n",
      "Für Informationen zu einem spezifischen Produkt, geben Sie bitte die Produktnummer an.\n",
      "Für allgemeine Informationen, geben Sie bitte Ihre Frage ein.\n",
      "Schreibe 'exit' oder 'quit' um das Programm zu beenden.\n",
      "---------------------------------------------------------------------------------\n",
      "17.6\n",
      "\n",
      "3700\n",
      "\n",
      "---------------------------------------------------------------------------------\n",
      "Auf Wiedersehen! 🦜\n",
      "---------------------------------------------------------------------------------\n"
     ]
    }
   ],
   "source": [
    "# 43168300\n",
    "chat_history = bot.start_chat()"
   ]
  }
 ],
 "metadata": {
  "kernelspec": {
   "display_name": ".venv",
   "language": "python",
   "name": "python3"
  },
  "language_info": {
   "codemirror_mode": {
    "name": "ipython",
    "version": 3
   },
   "file_extension": ".py",
   "mimetype": "text/x-python",
   "name": "python",
   "nbconvert_exporter": "python",
   "pygments_lexer": "ipython3",
   "version": "3.10.12"
  }
 },
 "nbformat": 4,
 "nbformat_minor": 2
}
