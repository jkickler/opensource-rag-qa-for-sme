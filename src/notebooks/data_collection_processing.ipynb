{
 "cells": [
  {
   "cell_type": "markdown",
   "metadata": {},
   "source": [
    "# Data Collection and Processing"
   ]
  },
  {
   "cell_type": "markdown",
   "metadata": {},
   "source": [
    "## Import libraries and global variables"
   ]
  },
  {
   "cell_type": "code",
   "execution_count": 1,
   "metadata": {},
   "outputs": [
    {
     "name": "stdout",
     "output_type": "stream",
     "text": [
      "CUDA is available\n"
     ]
    }
   ],
   "source": [
    "import sqlite3\n",
    "import warnings\n",
    "from pathlib import Path\n",
    "from typing import List\n",
    "\n",
    "import chromadb\n",
    "import pandas as pd\n",
    "from langchain.text_splitter import (\n",
    "    RecursiveCharacterTextSplitter,\n",
    "    RecursiveJsonSplitter,\n",
    ")\n",
    "from langchain.vectorstores import Chroma\n",
    "from langchain_community.document_loaders import JSONLoader, PyMuPDFLoader\n",
    "from langchain_community.embeddings import HuggingFaceEmbeddings\n",
    "import torch\n",
    "from transformers import BertTokenizer\n",
    "\n",
    "if torch.cuda.is_available():\n",
    "    print(\"CUDA is available\")\n",
    "else:\n",
    "    print(\"CUDA is not available\")"
   ]
  },
  {
   "cell_type": "code",
   "execution_count": 2,
   "metadata": {},
   "outputs": [],
   "source": [
    "# Define the paths for the SQL and the vector store\n",
    "path_sql_db = Path(\"path/sqlite_db.db\")\n",
    "path_chroma_db = Path(\"path/chroma_db/\")\n",
    "\n",
    "warnings.filterwarnings(\"ignore\")"
   ]
  },
  {
   "cell_type": "markdown",
   "metadata": {},
   "source": [
    "## Functions"
   ]
  },
  {
   "cell_type": "code",
   "execution_count": 3,
   "metadata": {},
   "outputs": [],
   "source": [
    "def list_store_infos(vector_store):\n",
    "    collections = vector_store._client.list_collections()\n",
    "    print(\"Store settings:\")\n",
    "\n",
    "    for collection in collections:\n",
    "        example = collection.peek(limit=1)\n",
    "        print(f\"Collection {collection.name} with ID {collection.id}\")\n",
    "        print(f\"Total number of embeddings: {collection.count()}\")\n",
    "        print(f\"Example {example['documents']}\\n\")"
   ]
  },
  {
   "cell_type": "code",
   "execution_count": 4,
   "metadata": {},
   "outputs": [],
   "source": [
    "def list_tables_and_columns(db_path: str, display_columns: bool = True) -> None:\n",
    "    \"\"\"\n",
    "    Retrieve a list of all tables and their columns from an SQLite database.\n",
    "\n",
    "    Args:\n",
    "        db_path (str): The path to the SQLite database file.\n",
    "        display_columns (bool): Whether to display columns of the tables. Default is True.\n",
    "\n",
    "    Returns:\n",
    "        None\n",
    "    \"\"\"\n",
    "    # Connect to the SQLite database\n",
    "    conn = sqlite3.connect(db_path)\n",
    "    cursor = conn.cursor()\n",
    "    # Get a list of all tables\n",
    "    cursor.execute(\"SELECT name FROM sqlite_master WHERE type='table';\")\n",
    "    tables = cursor.fetchall()\n",
    "\n",
    "    # For each table, get a list of all columns\n",
    "    for table in tables:\n",
    "        print(f\"Table: {table[0]}\")\n",
    "        if display_columns:\n",
    "            cursor.execute(f\"PRAGMA table_info({table[0]});\")\n",
    "            columns = cursor.fetchall()\n",
    "            for column in columns:\n",
    "                print(f\"  Column: {column[1]}\")\n",
    "        print()\n",
    "\n",
    "    # Close the connection\n",
    "    conn.close()"
   ]
  },
  {
   "cell_type": "code",
   "execution_count": 5,
   "metadata": {},
   "outputs": [],
   "source": [
    "def dataframe_to_sql(df: pd.DataFrame, table_name: str, db_path: str) -> None:\n",
    "    \"\"\"\n",
    "    Converts a pandas DataFrame to a SQL table and stores it in an SQLite database.\n",
    "\n",
    "    Args:\n",
    "        df (pandas.DataFrame): The DataFrame to be converted.\n",
    "        table_name (str): The name of the table to be created in the database.\n",
    "        db_path (str): The path to the SQLite database file.\n",
    "\n",
    "    Returns:\n",
    "        None\n",
    "    \"\"\"\n",
    "    conn = sqlite3.connect(db_path)\n",
    "    df.to_sql(table_name, conn, if_exists=\"replace\", index=False)\n",
    "    conn.close()"
   ]
  },
  {
   "cell_type": "code",
   "execution_count": 6,
   "metadata": {},
   "outputs": [],
   "source": [
    "def delete_table(db_path: str, table_name: str) -> None:\n",
    "    \"\"\"\n",
    "    Delete a table from the SQLite database.\n",
    "\n",
    "    Args:\n",
    "        conn (sqlite3.Connection): Connection object to the SQLite database.\n",
    "        table_name (str): The name of the table to be deleted.\n",
    "\n",
    "    Returns:\n",
    "        None\n",
    "    \"\"\"\n",
    "    conn = sqlite3.connect(db_path)\n",
    "    try:\n",
    "        cursor = conn.cursor()\n",
    "        cursor.execute(f\"DROP TABLE IF EXISTS {table_name}\")\n",
    "        print(f\"Table {table_name} deleted successfully.\")\n",
    "    except sqlite3.Error as e:\n",
    "        print(e)"
   ]
  },
  {
   "cell_type": "code",
   "execution_count": 7,
   "metadata": {},
   "outputs": [],
   "source": [
    "def execute_sql_query(database_path: str, query: str) -> list:\n",
    "    \"\"\"\n",
    "    Function to execute a SQL query on a specified SQLite database.\n",
    "\n",
    "    Args:\n",
    "        database_path (str): The path to the SQLite database.\n",
    "        query (str): The SQL query to execute.\n",
    "\n",
    "    Returns:\n",
    "        list: A list of tuples representing the rows returned by the query.\n",
    "    \"\"\"\n",
    "    conn = sqlite3.connect(database_path)\n",
    "    c = conn.cursor()\n",
    "    c.execute(query)\n",
    "    rows = c.fetchall()\n",
    "    conn.close()\n",
    "    return rows"
   ]
  },
  {
   "cell_type": "code",
   "execution_count": 8,
   "metadata": {},
   "outputs": [],
   "source": [
    "def convert_columns(df, columns_to_convert) -> pd.DataFrame:\n",
    "    \"\"\"Removes special characters and converts columns to float.\"\"\"\n",
    "    df.loc[:, columns_to_convert] = df.loc[:, columns_to_convert].replace(\"-\", 0)\n",
    "\n",
    "    for col in columns_to_convert:\n",
    "        df.loc[:, col] = (\n",
    "            df.loc[:, col].astype(str).str.replace(\",\", \".\").str.replace(\"°\", \"\")\n",
    "        )\n",
    "        df.loc[:, col] = df.loc[:, col].astype(float)\n",
    "\n",
    "    return df"
   ]
  },
  {
   "cell_type": "code",
   "execution_count": 9,
   "metadata": {},
   "outputs": [],
   "source": [
    "def load_pdfs(dir: Path) -> list:\n",
    "    \"\"\"\n",
    "    Load PDF documents from a directory.\n",
    "\n",
    "    Args:\n",
    "        dir (Path): The directory containing the PDF files.\n",
    "\n",
    "    Returns:\n",
    "        list: A list of loaded PDF documents as langchain Document objects.\n",
    "    \"\"\"\n",
    "    documents = []\n",
    "    for pdf in dir.iterdir():\n",
    "        print(f\"Reading PDF: {pdf.name}\")\n",
    "        loader = PyMuPDFLoader(str(pdf))\n",
    "        documents.extend(loader.load())\n",
    "\n",
    "    return documents"
   ]
  },
  {
   "cell_type": "code",
   "execution_count": 10,
   "metadata": {},
   "outputs": [],
   "source": [
    "def setup_vector_store(\n",
    "    path: str,\n",
    "    documents: List[str],\n",
    "    collection_name: str,\n",
    "    embedding_model: HuggingFaceEmbeddings,\n",
    ") -> Chroma:\n",
    "    \"\"\"\n",
    "    Sets up a vector store for storing document embeddings.\n",
    "\n",
    "    Args:\n",
    "        path (str): The path to the directory where the vector store will be persisted.\n",
    "        documents (List[str]): The list of documents to be added to the vector store.\n",
    "        collection_name (str): The name of the collection in the vector store.\n",
    "        embedding_model (HuggingFaceEmbeddings): The embedding model used to generate document embeddings.\n",
    "\n",
    "    Returns:\n",
    "        Chroma: The initialized vector store.\n",
    "    \"\"\"\n",
    "    chroma_db = chromadb.PersistentClient(path)\n",
    "\n",
    "    # If the collection already exists, reset it; otherwise, create a new collection.\n",
    "    if chroma_db.count_collections() > 0:\n",
    "        chroma_db.reset()\n",
    "    else:\n",
    "        vector_store = Chroma.from_documents(\n",
    "            documents=documents,\n",
    "            embedding=embedding_model,\n",
    "            collection_name=collection_name,\n",
    "            persist_directory=path,\n",
    "        )\n",
    "    print(f\"{vector_store._collection.count()} splits uploaded to the vector store.\")\n",
    "    print(f\"\\nExample split: {vector_store._collection.get()['documents'][0]}\")\n",
    "\n",
    "    return vector_store"
   ]
  },
  {
   "cell_type": "code",
   "execution_count": 11,
   "metadata": {},
   "outputs": [],
   "source": [
    "def token_count(text) -> int:\n",
    "    return len(tokenizer.tokenize(text))"
   ]
  },
  {
   "cell_type": "markdown",
   "metadata": {},
   "source": [
    "## SQL Database"
   ]
  },
  {
   "cell_type": "markdown",
   "metadata": {},
   "source": [
    "### Import data"
   ]
  },
  {
   "cell_type": "code",
   "execution_count": 12,
   "metadata": {},
   "outputs": [
    {
     "data": {
      "text/html": [
       "<div>\n",
       "<style scoped>\n",
       "    .dataframe tbody tr th:only-of-type {\n",
       "        vertical-align: middle;\n",
       "    }\n",
       "\n",
       "    .dataframe tbody tr th {\n",
       "        vertical-align: top;\n",
       "    }\n",
       "\n",
       "    .dataframe thead th {\n",
       "        text-align: right;\n",
       "    }\n",
       "</style>\n",
       "<table border=\"1\" class=\"dataframe\">\n",
       "  <thead>\n",
       "    <tr style=\"text-align: right;\">\n",
       "      <th></th>\n",
       "      <th>PK I</th>\n",
       "      <th>PK II</th>\n",
       "      <th>PK III</th>\n",
       "      <th>LEDtube Länge in mm</th>\n",
       "      <th>EOC</th>\n",
       "      <th>Philips Bestell-Nr.</th>\n",
       "      <th>EAN1</th>\n",
       "      <th>GPC</th>\n",
       "      <th>Bezeichnung lang</th>\n",
       "      <th>Bezeichnung kurz</th>\n",
       "      <th>...</th>\n",
       "      <th>Rotierende\\nEnd-\\nkappen</th>\n",
       "      <th>Garantie\\n[Jahre]</th>\n",
       "      <th>EEL</th>\n",
       "      <th>VE</th>\n",
       "      <th>Menge Palette</th>\n",
       "      <th>Spannung\\n[V]</th>\n",
       "      <th>kWh/1000h</th>\n",
       "      <th>Link eCat</th>\n",
       "      <th>Link Produktdatenblatt gem. EU-Verordnung</th>\n",
       "      <th>Link EEL Label</th>\n",
       "    </tr>\n",
       "  </thead>\n",
       "  <tbody>\n",
       "    <tr>\n",
       "      <th>0</th>\n",
       "      <td>LEDtube</td>\n",
       "      <td>T8 LEDtube InstantFit KVG/VVG</td>\n",
       "      <td>MASTER</td>\n",
       "      <td>1500.0</td>\n",
       "      <td>8.719514e+14</td>\n",
       "      <td>43168300.0</td>\n",
       "      <td>8719514431683</td>\n",
       "      <td>929003482302</td>\n",
       "      <td>MASTER LEDtube 1500mm UE 17,6W 840 T8</td>\n",
       "      <td>MAS LEDtube 1500mm UE 17.6W 840 T8</td>\n",
       "      <td>...</td>\n",
       "      <td>ja</td>\n",
       "      <td>10</td>\n",
       "      <td>A</td>\n",
       "      <td>10</td>\n",
       "      <td>520.0</td>\n",
       "      <td>220-240</td>\n",
       "      <td>18</td>\n",
       "      <td>http://www.assets.lighting.philips.com/is/cont...</td>\n",
       "      <td>https://eprel.ec.europa.eu/api/products/lights...</td>\n",
       "      <td>https://eprel.ec.europa.eu/qr/1013081</td>\n",
       "    </tr>\n",
       "  </tbody>\n",
       "</table>\n",
       "<p>1 rows × 34 columns</p>\n",
       "</div>"
      ],
      "text/plain": [
       "      PK I                          PK II  PK III  LEDtube Länge in mm  \\\n",
       "0  LEDtube  T8 LEDtube InstantFit KVG/VVG  MASTER               1500.0   \n",
       "\n",
       "            EOC  Philips Bestell-Nr.           EAN1           GPC  \\\n",
       "0  8.719514e+14           43168300.0  8719514431683  929003482302   \n",
       "\n",
       "                         Bezeichnung lang  \\\n",
       "0  MASTER LEDtube 1500mm UE 17,6W 840 T8    \n",
       "\n",
       "                      Bezeichnung kurz  ... Rotierende\\nEnd-\\nkappen  \\\n",
       "0  MAS LEDtube 1500mm UE 17.6W 840 T8   ...                       ja   \n",
       "\n",
       "  Garantie\\n[Jahre] EEL  VE Menge Palette Spannung\\n[V] kWh/1000h  \\\n",
       "0                10   A  10         520.0       220-240        18   \n",
       "\n",
       "                                          Link eCat   \\\n",
       "0  http://www.assets.lighting.philips.com/is/cont...   \n",
       "\n",
       "          Link Produktdatenblatt gem. EU-Verordnung   \\\n",
       "0  https://eprel.ec.europa.eu/api/products/lights...   \n",
       "\n",
       "                          Link EEL Label  \n",
       "0  https://eprel.ec.europa.eu/qr/1013081  \n",
       "\n",
       "[1 rows x 34 columns]"
      ]
     },
     "execution_count": 12,
     "metadata": {},
     "output_type": "execute_result"
    }
   ],
   "source": [
    "df_lamps = pd.read_excel(\"../../data/01_raw/xlsx/lamps.xlsx\")\n",
    "df_lamps.head(1)"
   ]
  },
  {
   "cell_type": "markdown",
   "metadata": {},
   "source": [
    "### Processing"
   ]
  },
  {
   "cell_type": "code",
   "execution_count": 13,
   "metadata": {},
   "outputs": [
    {
     "name": "stdout",
     "output_type": "stream",
     "text": [
      "<class 'pandas.core.frame.DataFrame'>\n",
      "RangeIndex: 487 entries, 0 to 486\n",
      "Data columns (total 34 columns):\n",
      " #   Column                                      Non-Null Count  Dtype  \n",
      "---  ------                                      --------------  -----  \n",
      " 0   PK I                                        487 non-null    object \n",
      " 1   PK II                                       487 non-null    object \n",
      " 2   PK III                                      487 non-null    object \n",
      " 3   LEDtube Länge in mm                         149 non-null    float64\n",
      " 4   EOC                                         476 non-null    float64\n",
      " 5   Philips Bestell-Nr.                         478 non-null    float64\n",
      " 6   EAN1                                        487 non-null    int64  \n",
      " 7   GPC                                         487 non-null    int64  \n",
      " 8   Bezeichnung lang                            487 non-null    object \n",
      " 9   Bezeichnung kurz                            487 non-null    object \n",
      " 10  NEU                                         47 non-null     object \n",
      " 11  TOPSELLER                                   50 non-null     object \n",
      " 12  Sockel                                      487 non-null    object \n",
      " 13  Betrieb an                                  487 non-null    object \n",
      " 14  Ersatz für                                  487 non-null    object \n",
      " 15  Leistung\n",
      "[W]                                487 non-null    object \n",
      " 16  Licht-strom (lm)                            487 non-null    object \n",
      " 17  Lichtstärke (cd)                            487 non-null    object \n",
      " 18  Aus-\n",
      "führung                                487 non-null    object \n",
      " 19  Nutz-lebens-dauer                           487 non-null    object \n",
      " 20  Dimm-bar                                    487 non-null    object \n",
      " 21  Aus-\n",
      "Abstrahl-\n",
      "winkel\n",
      "[°]                   487 non-null    object \n",
      " 22  Ra\n",
      "Wert                                     487 non-null    object \n",
      " 23  Farb-temperatur                             487 non-null    object \n",
      " 24  Rotierende\n",
      "End-\n",
      "kappen                      487 non-null    object \n",
      " 25  Garantie\n",
      "[Jahre]                            487 non-null    object \n",
      " 26  EEL                                         487 non-null    object \n",
      " 27  VE                                          487 non-null    int64  \n",
      " 28  Menge Palette                               482 non-null    float64\n",
      " 29  Spannung\n",
      "[V]                                487 non-null    object \n",
      " 30  kWh/1000h                                   487 non-null    object \n",
      " 31  Link eCat                                   487 non-null    object \n",
      " 32  Link Produktdatenblatt gem. EU-Verordnung   487 non-null    object \n",
      " 33  Link EEL Label                              487 non-null    object \n",
      "dtypes: float64(4), int64(3), object(27)\n",
      "memory usage: 129.5+ KB\n"
     ]
    }
   ],
   "source": [
    "df_lamps.info()"
   ]
  },
  {
   "cell_type": "markdown",
   "metadata": {},
   "source": [
    "#### Changing column names"
   ]
  },
  {
   "cell_type": "code",
   "execution_count": 14,
   "metadata": {},
   "outputs": [
    {
     "data": {
      "text/plain": [
       "Index(['PK I', 'PK II', 'PK III', 'LEDtube Länge in mm', 'EOC',\n",
       "       'Philips Bestell-Nr.', 'EAN1', 'GPC', 'Bezeichnung lang',\n",
       "       'Bezeichnung kurz', 'NEU', 'TOPSELLER', 'Sockel', 'Betrieb an',\n",
       "       'Ersatz für', 'Leistung\\n[W]', 'Licht-strom (lm)', 'Lichtstärke (cd)',\n",
       "       'Aus-\\nführung', 'Nutz-lebens-dauer', 'Dimm-bar',\n",
       "       'Aus-\\nAbstrahl-\\nwinkel\\n[°]', 'Ra\\nWert', 'Farb-temperatur',\n",
       "       'Rotierende\\nEnd-\\nkappen', 'Garantie\\n[Jahre]', 'EEL', 'VE',\n",
       "       'Menge Palette', 'Spannung\\n[V]', 'kWh/1000h', 'Link eCat ',\n",
       "       'Link Produktdatenblatt gem. EU-Verordnung ', 'Link EEL Label'],\n",
       "      dtype='object')"
      ]
     },
     "execution_count": 14,
     "metadata": {},
     "output_type": "execute_result"
    }
   ],
   "source": [
    "df_lamps.columns"
   ]
  },
  {
   "cell_type": "code",
   "execution_count": 15,
   "metadata": {},
   "outputs": [
    {
     "data": {
      "text/plain": [
       "Index(['PK_I', 'PK_II', 'PK_III', 'LEDtube_Länge_in_mm', 'EOC',\n",
       "       'Philips_BestellNr', 'EAN1', 'GPC', 'Bezeichnung_lang',\n",
       "       'Bezeichnung_kurz', 'NEU', 'TOPSELLER', 'Sockel', 'Betrieb_an',\n",
       "       'Ersatz_für', 'Leistung[W]', 'Lichtstrom_(lm)', 'Lichtstärke_(cd)',\n",
       "       'Ausführung', 'Nutzlebensdauer', 'Dimmbar', 'AusAbstrahlwinkel[°]',\n",
       "       'RaWert', 'Farbtemperatur', 'RotierendeEndkappen', 'Garantie[Jahre]',\n",
       "       'EEL', 'VE', 'Menge_Palette', 'Spannung[V]', 'kWh/1000h', 'Link_eCat_',\n",
       "       'Link_Produktdatenblatt_gem_EUVerordnung_', 'Link_EEL_Label'],\n",
       "      dtype='object')"
      ]
     },
     "execution_count": 15,
     "metadata": {},
     "output_type": "execute_result"
    }
   ],
   "source": [
    "df_lamps.columns = (\n",
    "    df_lamps.columns.str.replace(\"\\n\", \"\")\n",
    "    .str.replace(\"-\", \"\")\n",
    "    .str.replace(\" \", \"_\")\n",
    "    .str.replace(\".\", \"\")\n",
    ")\n",
    "df_lamps.columns"
   ]
  },
  {
   "cell_type": "code",
   "execution_count": 16,
   "metadata": {},
   "outputs": [
    {
     "data": {
      "text/plain": [
       "Index(['Produktkategorie_PK_I', 'Produktkategorie_PK_II',\n",
       "       'Produktkategorie_PK_III', 'LEDtube_Laenge_in_mm', 'EOC', 'Bestell_Nr',\n",
       "       'EAN1', 'GPC', 'Bezeichnung_lang', 'Bezeichnung_kurz', 'Neu',\n",
       "       'Topseller', 'Sockel', 'Betrieb_an', 'Ersatz_fuer', 'Leistung',\n",
       "       'Lichtstrom', 'Lichtstaerke', 'Ausfuehrung', 'Nutzlebensdauer',\n",
       "       'Dimmbar', 'Abstrahlwinkel', 'Ra_Wert_Farbwiedergabe', 'Farbtemperatur',\n",
       "       'Rotierende_Endkappen', 'Garantie', 'EEL', 'Verpackungseinheit_VE',\n",
       "       'Menge_Palette', 'Spannung', 'kWh/1000h', 'eCat_Produktdatenblatt',\n",
       "       'EU_Verordnung_Produktdatenblatt', 'EEL_Label'],\n",
       "      dtype='object')"
      ]
     },
     "execution_count": 16,
     "metadata": {},
     "output_type": "execute_result"
    }
   ],
   "source": [
    "df_lamps.rename(\n",
    "    columns={\n",
    "        \"Philips_BestellNr\": \"Bestell_Nr\",\n",
    "        \"Lichtstrom_(lm)\": \"Lichtstrom\",\n",
    "        \"Leistung[W]\": \"Leistung\",\n",
    "        \"Lichtstärke_(cd)\": \"Lichtstärke\",\n",
    "        \"AusAbstrahlwinkel[°]\": \"Abstrahlwinkel\",\n",
    "        \"RaWert\": \"Ra_Wert_Farbwiedergabe\",\n",
    "        \"RotierendeEndkappen\": \"Rotierende_Endkappen\",\n",
    "        \"Garantie[Jahre]\": \"Garantie\",\n",
    "        \"Spannung[V]\": \"Spannung\",\n",
    "        \"Link_eCat_\": \"eCat_Produktdatenblatt\",\n",
    "        \"Link_Produktdatenblatt_gem_EUVerordnung_\": \"EU_Verordnung_Produktdatenblatt\",\n",
    "        \"Link_EEL_Label\": \"EEL_Label\",\n",
    "        \"VE\": \"Verpackungseinheit_VE\",\n",
    "        \"TOPSELLER\": \"Topseller\",\n",
    "        \"NEU\": \"Neu\",\n",
    "    },\n",
    "    inplace=True,\n",
    ")\n",
    "\n",
    "df_lamps.columns = (\n",
    "    df_lamps.columns.str.replace(\"ä\", \"ae\")\n",
    "    .str.replace(\"ö\", \"oe\")\n",
    "    .str.replace(\"ü\", \"ue\")\n",
    ")\n",
    "\n",
    "df_lamps.rename(columns=lambda x: x.replace(\"PK\", \"Produktkategorie_PK\"), inplace=True)\n",
    "df_lamps.columns"
   ]
  },
  {
   "cell_type": "code",
   "execution_count": 17,
   "metadata": {},
   "outputs": [
    {
     "data": {
      "text/plain": [
       "Index(['Produktkategorie_PK_I', 'Produktkategorie_PK_II',\n",
       "       'Produktkategorie_PK_III', 'LEDtube_Laenge_in_mm', 'EOC', 'Bestell_Nr',\n",
       "       'EAN1', 'GPC', 'Bezeichnung_lang', 'Bezeichnung_kurz', 'Neu',\n",
       "       'Topseller', 'Sockel', 'Betrieb_an', 'Ersatz_fuer', 'Leistung',\n",
       "       'Lichtstrom', 'Lichtstaerke', 'Ausfuehrung', 'Nutzlebensdauer',\n",
       "       'Dimmbar', 'Abstrahlwinkel', 'Ra_Wert_Farbwiedergabe', 'Farbtemperatur',\n",
       "       'Rotierende_Endkappen', 'Garantie', 'EEL', 'Verpackungseinheit_VE',\n",
       "       'Menge_Palette', 'Spannung', 'kWh/1000h', 'eCat_Produktdatenblatt',\n",
       "       'EU_Verordnung_Produktdatenblatt', 'EEL_Label'],\n",
       "      dtype='object')"
      ]
     },
     "execution_count": 17,
     "metadata": {},
     "output_type": "execute_result"
    }
   ],
   "source": [
    "df_lamps.columns"
   ]
  },
  {
   "cell_type": "markdown",
   "metadata": {},
   "source": [
    "#### Handling missing values, binary encoding and value imputation"
   ]
  },
  {
   "cell_type": "code",
   "execution_count": 18,
   "metadata": {},
   "outputs": [
    {
     "data": {
      "text/plain": [
       "Produktkategorie_PK_I                0\n",
       "Produktkategorie_PK_II               0\n",
       "Produktkategorie_PK_III              0\n",
       "LEDtube_Laenge_in_mm               338\n",
       "EOC                                 11\n",
       "Bestell_Nr                           9\n",
       "EAN1                                 0\n",
       "GPC                                  0\n",
       "Bezeichnung_lang                     0\n",
       "Bezeichnung_kurz                     0\n",
       "Neu                                440\n",
       "Topseller                          437\n",
       "Sockel                               0\n",
       "Betrieb_an                           0\n",
       "Ersatz_fuer                          0\n",
       "Leistung                             0\n",
       "Lichtstrom                           0\n",
       "Lichtstaerke                         0\n",
       "Ausfuehrung                          0\n",
       "Nutzlebensdauer                      0\n",
       "Dimmbar                              0\n",
       "Abstrahlwinkel                       0\n",
       "Ra_Wert_Farbwiedergabe               0\n",
       "Farbtemperatur                       0\n",
       "Rotierende_Endkappen                 0\n",
       "Garantie                             0\n",
       "EEL                                  0\n",
       "Verpackungseinheit_VE                0\n",
       "Menge_Palette                        5\n",
       "Spannung                             0\n",
       "kWh/1000h                            0\n",
       "eCat_Produktdatenblatt               0\n",
       "EU_Verordnung_Produktdatenblatt      0\n",
       "EEL_Label                            0\n",
       "dtype: int64"
      ]
     },
     "execution_count": 18,
     "metadata": {},
     "output_type": "execute_result"
    }
   ],
   "source": [
    "df_lamps.isna().sum()"
   ]
  },
  {
   "cell_type": "code",
   "execution_count": 19,
   "metadata": {},
   "outputs": [
    {
     "name": "stdout",
     "output_type": "stream",
     "text": [
      "Unique values in 'LEDtube_Laenge_in_mm' column:\n",
      "[1500. 1200. 1050.  900.  600.    0. 1449. 1149.  849.  549.   nan]\n",
      "\n",
      "Unique values in 'Neu' column:\n",
      "[nan 'NEU ' 'NEU']\n",
      "\n",
      "Unique values in 'Topseller' column:\n",
      "[nan 'TOPSELLER']\n",
      "\n",
      "Unique values in 'Sockel' column:\n",
      "['G13' '-' 'G5' 'GU10' 'G24D-1' 'G24D-2' 'G24D-3' 'G24Q-1' 'G24Q-2'\n",
      " 'G24Q-3' '2G11' 'GX24Q-2' 'GX24Q-3' 'GX24Q-4' 'G23' 'E27' 'E40' 'E14'\n",
      " 'GU4' 'G4' 'GY6,35' 'G9' 'R7S' 'S14S' 'G53' 'GU5.3']\n",
      "\n",
      "Unique values in 'Betrieb_an' column:\n",
      "['KVG/VVG/230V' '-' 'EVG' 'Universal(KVG/EVG/230V)' 'KVG/EVG/\\n230V'\n",
      " 'EVG*' '220-240V' 'KVG/ VVG' 'KVG/VVG' '220-240' 'KVG/ VVG/230V']\n",
      "\n",
      "Unique values in 'Ersatz_fuer' column:\n",
      "[58 36 38 30 18 '-' '58' '36' '18' 80 49 35 54 28 39 21 24 14 50 13 26 55\n",
      " 32 42 '9/11' 70 100 60 150 125 200 'HPL 80W/SON 70W' 'HPL 125W/SON 70W'\n",
      " 'HPL 200W/SON 100W' 250 400 40 '60' '100' 75 120 25 20 15 68 '25' '40' 10\n",
      " 101 102 103 104 105 43]\n",
      "\n",
      "Unique values in 'Leistung' column:\n",
      "[17.6 20 21.7 18.2 11.9 '13,5' 14.7 12.5 16 12 8 '-' 23 20.5 15.5 14 31.5\n",
      " 21.5 24 '15,5' 18 36 26 16.5 '18,5' '11,5' '10,5' 17 18.5 11.5 10.5 25 7\n",
      " 4.7 4.5 6.5 8.5 9 '6,5' 15 5 19 28.5 42.8 34 50 65 40 '33,5' 21 28 42 13\n",
      " 95 140 3.4 5.9 '3,4' '5,9' '7,2' 4 '7,8' '11,2' '7,5' 2.3 5.2 7.3 '4,3'\n",
      " '8,5' '4,5' '17,5' 7.5 '4,9' 10 '1,7' 9.5 2.5 '2,5' 2 '2,2' '2,6' '2,8'\n",
      " 1.8 2.8 4.3 3 6 '9,5' '3,5' 2.1 1 2.7 '4,2' 2.6 '3,2' 4.8 17.5 2.2 3.5\n",
      " '10,8' '14,8' '6,7' '5,8' 5.8 '2,9' '4,4' 3.9 5.5 '3,7' 3.7 4.9 '4,8' 6.2\n",
      " 4.6 '4,7']\n",
      "\n",
      "Unique values in 'Lichtstrom' column:\n",
      "[3700 3400 2900 3100 2500 2300 2000 2100 1575 1000 1050 '-' 3500 2400 900\n",
      " 2200 1800 800 2350 3200 2700 1850 850 5200 5600 3900 2800 3000 2600 1600\n",
      " 1700 1500 3600 345 475 500 650 700 950 960 1440 720 990 1100 1620 2250\n",
      " 520 550 4000 5400 6000 8000 9000 8100 10800 12000 4200 4500 6500 7200\n",
      " 7500 2850 3850 3800 5700 5300 5500 13000 20000 470 806 1521 1055 840 485\n",
      " 1095 1535 2452 250 200 150 340 136 190 255 390 410 735 515 540 740 750\n",
      " 184 210 115 205 315 300 220 400 570 2460 810 375 600 620 875 '1.500'\n",
      " '1.600' '1.700' 450 490 430 480 530 560 621 670 460 630 660 230 265 280\n",
      " 355 270 285 365 380 575 240 350 275 370]\n",
      "\n",
      "Unique values in 'Lichtstaerke' column:\n",
      "['-' 500 8500 '4.300' 13000 '6.500' 250 400 550 620 1100 1500 1600 1700\n",
      " 1000 3000 4800 3600 '1.000' '8.000' '3.000' '3.200' '1.200' '3.300'\n",
      " '1.300' '1.400' '4.000' '4.200' '4.400' '2.100' '2.200' '2.300' 1400 410\n",
      " 440 '1.550' '1.650' 1850 2000 2200 800 1300 1200 600 750 770 560 650\n",
      " '1.500' 540 1050 700 950 850 680 545 565 590 740]\n",
      "\n",
      "Unique values in 'Ausfuehrung' column:\n",
      "['-' 'matt' 'klar' 'gold' 'smoky']\n",
      "\n",
      "Unique values in 'Nutzlebensdauer' column:\n",
      "[100000 75000 '-' 60000 50000 25000 30000 70000 15000 '25.000' 40000]\n",
      "\n",
      "Unique values in 'Dimmbar' column:\n",
      "['nein' '-' 'ja' 'Ja' 'Nein']\n",
      "\n",
      "Unique values in 'Abstrahlwinkel' column:\n",
      "[160 '-' 190 240 200 36 120 300 360 330 '300°' 60 180 25 40 24 140 9 45]\n",
      "\n",
      "Unique values in 'Ra_Wert_Farbwiedergabe' column:\n",
      "[80 83 '-' 90 82 70 95 97 92]\n",
      "\n",
      "Unique values in 'Farbtemperatur' column:\n",
      "[4000 6500 3000 '-' 2700 1800 '3.000' '4.000']\n",
      "\n",
      "Unique values in 'Rotierende_Endkappen' column:\n",
      "['ja' '-' 'nein']\n",
      "\n",
      "Unique values in 'Garantie' column:\n",
      "[10 7 5 '-' 3 8 2]\n",
      "\n",
      "Unique values in 'EEL' column:\n",
      "['A' 'B' 'D' 'C' 'E' '-' 'F' 'G']\n",
      "\n",
      "Unique values in 'Verpackungseinheit_VE' column:\n",
      "[10 40 20  6  4  2 12]\n",
      "\n",
      "Unique values in 'Menge_Palette' column:\n",
      "[5.200e+02 5.600e+02 4.400e+02 8.000e+02 9.100e+02 9.880e+03 4.000e+02\n",
      " 4.800e+02 7.200e+02 7.000e+02 1.400e+03 1.600e+03 8.400e+02 1.330e+03\n",
      " 6.500e+02 1.540e+03 3.240e+03 7.500e+02 1.100e+03 9.900e+02 1.680e+03\n",
      " 2.660e+03 1.050e+03 4.030e+03 4.060e+03 2.580e+03 2.150e+03 1.620e+03\n",
      " 1.200e+03 2.880e+03 2.160e+03 4.500e+03 2.520e+02 6.000e+02 1.620e+02\n",
      " 6.000e+00 4.320e+02 2.640e+02 1.080e+02 3.840e+02       nan 4.000e+00\n",
      " 1.120e+03 4.900e+02 1.344e+03 1.260e+03 5.400e+02 9.000e+02 3.000e+02\n",
      " 2.052e+03 1.800e+02 3.600e+01 6.000e+01 1.140e+02 2.800e+02 1.440e+03\n",
      " 6.720e+02 3.360e+03 2.720e+03 1.890e+03 2.040e+03 2.380e+03 2.640e+03\n",
      " 2.960e+03 1.530e+03 1.760e+03 2.700e+03 3.920e+03 3.300e+03 2.340e+03\n",
      " 5.460e+03 2.940e+03 1.836e+03 9.120e+02 4.200e+02 4.416e+03 8.640e+03\n",
      " 7.992e+03 7.104e+03 3.780e+03 5.720e+03 7.140e+03 1.104e+03 4.760e+03\n",
      " 4.480e+03 5.760e+02 5.000e+02 3.510e+03]\n",
      "\n",
      "Unique values in 'Spannung' column:\n",
      "['220-240' '100-277' '30-80' '20-50' '65-75' '60-120' '80-130' '20-90'\n",
      " '70-120' '60-100' '30-120' '40-70' '20-60' '53-77' '48-58' '68-78'\n",
      " '85-95' '80-90' '120-240' '-' 12]\n",
      "\n",
      "Unique values in 'kWh/1000h' column:\n",
      "[18 20 22 19 12 14 15 13 16 8 '-' 23 21 32 24 36 26 17 11 25 7 5 9 29 43\n",
      " 34 50 65 40 28 42 95 140 4 6 7.5 3 7.3 10 2 1 2.1]\n",
      "\n"
     ]
    }
   ],
   "source": [
    "# Check the unique values in selected columns.\n",
    "exclude_columns = [\n",
    "    \"Produktkategorie_PK_I\",\n",
    "    \"Produktkategorie_PK_II\",\n",
    "    \"Produktkategorie_PK_III\",\n",
    "    \"EOC\",\n",
    "    \"Bestell_Nr\",\n",
    "    \"EAN1\",\n",
    "    \"GPC\",\n",
    "    \"Bezeichnung_lang\",\n",
    "    \"Bezeichnung_kurz\",\n",
    "    \"eCat_Produktdatenblatt\",\n",
    "    \"EU_Verordnung_Produktdatenblatt\",\n",
    "    \"EEL_Label\",\n",
    "]\n",
    "\n",
    "for column in df_lamps.columns:\n",
    "    if column not in exclude_columns:\n",
    "        unique_values = df_lamps[column].unique()\n",
    "        print(f\"Unique values in '{column}' column:\")\n",
    "        print(unique_values)\n",
    "        print()"
   ]
  },
  {
   "cell_type": "code",
   "execution_count": 20,
   "metadata": {},
   "outputs": [],
   "source": [
    "# Handling missing values\n",
    "df_lamps.loc[df_lamps[\"EOC\"].isna(), \"EOC\"] = df_lamps[\"EAN1\"].astype(str) + \"00\"\n",
    "\n",
    "df_lamps.loc[df_lamps[\"Bestell_Nr\"].isna(), \"Bestell_Nr\"] = (\n",
    "    df_lamps[\"EOC\"].astype(str).str[-8:]\n",
    ")\n",
    "df_lamps[\"LEDtube_Laenge_in_mm\"].fillna(0, inplace=True)\n",
    "df_lamps[\"Menge_Palette\"].fillna(500, inplace=True)"
   ]
  },
  {
   "cell_type": "code",
   "execution_count": 21,
   "metadata": {},
   "outputs": [
    {
     "name": "stdout",
     "output_type": "stream",
     "text": [
      "Unique values in 'Neu' column: [0 1]\n",
      "Unique values in 'Topseller' column: [0 1]\n"
     ]
    }
   ],
   "source": [
    "# Binary encoding for \"Neu\" and \"Topseller\" columns\n",
    "df_lamps[\"Neu\"].fillna(0, inplace=True)\n",
    "df_lamps[\"Neu\"].replace([\"NEU \", \"NEU\"], 1, inplace=True)\n",
    "df_lamps[\"Topseller\"].fillna(0, inplace=True)\n",
    "df_lamps[\"Topseller\"].replace([\"TOPSELLER \", \"TOPSELLER\"], 1, inplace=True)\n",
    "\n",
    "print(\"Unique values in 'Neu' column:\", df_lamps[\"Neu\"].unique())\n",
    "print(\"Unique values in 'Topseller' column:\", df_lamps[\"Topseller\"].unique())"
   ]
  },
  {
   "cell_type": "code",
   "execution_count": 22,
   "metadata": {},
   "outputs": [
    {
     "name": "stdout",
     "output_type": "stream",
     "text": [
      "Unique values in 'Rotierende_Endkappen' column:\n",
      "['ja' 'nein']\n",
      "Unique values in 'Ausfuehrung' column:\n",
      "['keine Angabe' 'matt' 'klar' 'gold' 'smoky']\n",
      "Unique values in 'Dimmbar' column:\n",
      "['nein' 'ja']\n",
      "Unique values in 'Betrieb_an' column:\n",
      "['KVG/VVG' '-' 'EVG' 'Universal' '230V']\n"
     ]
    }
   ],
   "source": [
    "# Value imputation\n",
    "df_lamps[\"Rotierende_Endkappen\"].replace(\"-\", \"nein\", inplace=True)\n",
    "df_lamps[\"Ausfuehrung\"].replace(\"-\", \"keine Angabe\", inplace=True)\n",
    "df_lamps[\"Dimmbar\"] = df_lamps[\"Dimmbar\"].str.lower().replace(\"-\", \"nein\")\n",
    "df_lamps[\"Betrieb_an\"] = df_lamps[\"Betrieb_an\"].str.replace(\n",
    "    r\".*KVG.*VVG.*\", \"KVG/VVG\", regex=True\n",
    ")\n",
    "df_lamps[\"Betrieb_an\"] = df_lamps[\"Betrieb_an\"].str.replace(\"EVG\\*\", \"EVG\", regex=True)\n",
    "df_lamps[\"Betrieb_an\"] = df_lamps[\"Betrieb_an\"].str.replace(\n",
    "    r\".*Universal.*\", \"Universal\", regex=True\n",
    ")\n",
    "df_lamps[\"Betrieb_an\"] = df_lamps[\"Betrieb_an\"].str.replace(\n",
    "    r\".*220-240.*\", \"230V\", regex=True\n",
    ")\n",
    "\n",
    "df_lamps.loc[df_lamps[\"Betrieb_an\"] == \"KVG/EVG/\\n230V\", \"Betrieb_an\"] = \"Universal\"\n",
    "\n",
    "print(\"Unique values in 'Rotierende_Endkappen' column:\")\n",
    "print(df_lamps[\"Rotierende_Endkappen\"].unique())\n",
    "\n",
    "print(\"Unique values in 'Ausfuehrung' column:\")\n",
    "print(df_lamps[\"Ausfuehrung\"].unique())\n",
    "\n",
    "print(\"Unique values in 'Dimmbar' column:\")\n",
    "print(df_lamps[\"Dimmbar\"].unique())\n",
    "\n",
    "print(\"Unique values in 'Betrieb_an' column:\")\n",
    "print(df_lamps[\"Betrieb_an\"].unique())"
   ]
  },
  {
   "cell_type": "code",
   "execution_count": 23,
   "metadata": {},
   "outputs": [],
   "source": [
    "# Drop other product code columns, because we only need the Bestell_Nr (order number)\n",
    "df_lamps.drop([\"EAN1\", \"GPC\", \"EOC\"], axis=1, inplace=True)"
   ]
  },
  {
   "cell_type": "markdown",
   "metadata": {},
   "source": [
    "#### Change data types"
   ]
  },
  {
   "cell_type": "code",
   "execution_count": 24,
   "metadata": {},
   "outputs": [],
   "source": [
    "# Define the columns to convert to integer.\n",
    "columns_to_int = [\n",
    "    \"LEDtube_Laenge_in_mm\",\n",
    "    \"Bestell_Nr\",\n",
    "    \"Lichtstrom\",\n",
    "    \"Lichtstaerke\",\n",
    "    \"Nutzlebensdauer\",\n",
    "    \"Abstrahlwinkel\",\n",
    "    \"Ra_Wert_Farbwiedergabe\",\n",
    "    \"Farbtemperatur\",\n",
    "    \"Garantie\",\n",
    "    \"Menge_Palette\",\n",
    "]\n",
    "\n",
    "df_lamps = convert_columns(df_lamps, columns_to_int)\n",
    "df_lamps.loc[:, columns_to_int] = df_lamps.loc[:, columns_to_int].astype(int)"
   ]
  },
  {
   "cell_type": "code",
   "execution_count": 25,
   "metadata": {},
   "outputs": [],
   "source": [
    "# Define the columns to convert to float.\n",
    "columns_to_float = [\"kWh/1000h\", \"Leistung\"]\n",
    "df_lamps = convert_columns(df_lamps, columns_to_float)"
   ]
  },
  {
   "cell_type": "code",
   "execution_count": 26,
   "metadata": {},
   "outputs": [
    {
     "name": "stdout",
     "output_type": "stream",
     "text": [
      "Unique values in 'LEDtube_Laenge_in_mm' column:\n",
      "[1500 1200 1050 900 600 0 1449 1149 849 549]\n",
      "\n",
      "Unique values in 'Neu' column:\n",
      "[0 1]\n",
      "\n",
      "Unique values in 'Topseller' column:\n",
      "[0 1]\n",
      "\n",
      "Unique values in 'Sockel' column:\n",
      "['G13' '-' 'G5' 'GU10' 'G24D-1' 'G24D-2' 'G24D-3' 'G24Q-1' 'G24Q-2'\n",
      " 'G24Q-3' '2G11' 'GX24Q-2' 'GX24Q-3' 'GX24Q-4' 'G23' 'E27' 'E40' 'E14'\n",
      " 'GU4' 'G4' 'GY6,35' 'G9' 'R7S' 'S14S' 'G53' 'GU5.3']\n",
      "\n",
      "Unique values in 'Betrieb_an' column:\n",
      "['KVG/VVG' '-' 'EVG' 'Universal' '230V']\n",
      "\n",
      "Unique values in 'Ersatz_fuer' column:\n",
      "[58 36 38 30 18 '-' '58' '36' '18' 80 49 35 54 28 39 21 24 14 50 13 26 55\n",
      " 32 42 '9/11' 70 100 60 150 125 200 'HPL 80W/SON 70W' 'HPL 125W/SON 70W'\n",
      " 'HPL 200W/SON 100W' 250 400 40 '60' '100' 75 120 25 20 15 68 '25' '40' 10\n",
      " 101 102 103 104 105 43]\n",
      "\n",
      "Unique values in 'Leistung' column:\n",
      "[17.6 20.0 21.7 18.2 11.9 13.5 14.7 12.5 16.0 12.0 8.0 0.0 23.0 20.5 15.5\n",
      " 14.0 31.5 21.5 24.0 18.0 36.0 26.0 16.5 18.5 11.5 10.5 17.0 25.0 7.0 4.7\n",
      " 4.5 6.5 8.5 9.0 15.0 5.0 19.0 28.5 42.8 34.0 50.0 65.0 40.0 33.5 21.0\n",
      " 28.0 42.0 13.0 95.0 140.0 3.4 5.9 7.2 4.0 7.8 11.2 7.5 2.3 5.2 7.3 4.3\n",
      " 17.5 4.9 10.0 1.7 9.5 2.5 2.0 2.2 2.6 2.8 1.8 3.0 6.0 3.5 2.1 1.0 2.7 4.2\n",
      " 3.2 4.8 10.8 14.8 6.7 5.8 2.9 4.4 3.9 5.5 3.7 6.2 4.6]\n",
      "\n",
      "Unique values in 'Lichtstrom' column:\n",
      "[3700 3400 2900 3100 2500 2300 2000 2100 1575 1000 1050 0 3500 2400 900\n",
      " 2200 1800 800 2350 3200 2700 1850 850 5200 5600 3900 2800 3000 2600 1600\n",
      " 1700 1500 3600 345 475 500 650 700 950 960 1440 720 990 1100 1620 2250\n",
      " 520 550 4000 5400 6000 8000 9000 8100 10800 12000 4200 4500 6500 7200\n",
      " 7500 2850 3850 3800 5700 5300 5500 13000 20000 470 806 1521 1055 840 485\n",
      " 1095 1535 2452 250 200 150 340 136 190 255 390 410 735 515 540 740 750\n",
      " 184 210 115 205 315 300 220 400 570 2460 810 375 600 620 875 1 450 490\n",
      " 430 480 530 560 621 670 460 630 660 230 265 280 355 270 285 365 380 575\n",
      " 240 350 275 370]\n",
      "\n",
      "Unique values in 'Lichtstaerke' column:\n",
      "[0 500 8500 4 13000 6 250 400 550 620 1100 1500 1600 1700 1000 3000 4800\n",
      " 3600 1 8 3 2 1400 410 440 1850 2000 2200 800 1300 1200 600 750 770 560\n",
      " 650 540 1050 700 950 850 680 545 565 590 740]\n",
      "\n",
      "Unique values in 'Ausfuehrung' column:\n",
      "['keine Angabe' 'matt' 'klar' 'gold' 'smoky']\n",
      "\n",
      "Unique values in 'Nutzlebensdauer' column:\n",
      "[100000 75000 0 60000 50000 25000 30000 70000 15000 25 40000]\n",
      "\n",
      "Unique values in 'Dimmbar' column:\n",
      "['nein' 'ja']\n",
      "\n",
      "Unique values in 'Abstrahlwinkel' column:\n",
      "[160 0 190 240 200 36 120 300 360 330 60 180 25 40 24 140 9 45]\n",
      "\n",
      "Unique values in 'Ra_Wert_Farbwiedergabe' column:\n",
      "[80 83 0 90 82 70 95 97 92]\n",
      "\n",
      "Unique values in 'Farbtemperatur' column:\n",
      "[4000 6500 3000 0 2700 1800 3 4]\n",
      "\n",
      "Unique values in 'Rotierende_Endkappen' column:\n",
      "['ja' 'nein']\n",
      "\n",
      "Unique values in 'Garantie' column:\n",
      "[10 7 5 0 3 8 2]\n",
      "\n",
      "Unique values in 'EEL' column:\n",
      "['A' 'B' 'D' 'C' 'E' '-' 'F' 'G']\n",
      "\n",
      "Unique values in 'Verpackungseinheit_VE' column:\n",
      "[10 40 20  6  4  2 12]\n",
      "\n",
      "Unique values in 'Menge_Palette' column:\n",
      "[520 560 440 800 910 9880 400 480 720 700 1400 1600 840 1330 650 1540 3240\n",
      " 750 1100 990 1680 2660 1050 4030 4060 2580 2150 1620 1200 2880 2160 4500\n",
      " 252 600 162 6 432 264 108 384 500 4 1120 490 1344 1260 540 900 300 2052\n",
      " 180 36 60 114 280 1440 672 3360 2720 1890 2040 2380 2640 2960 1530 1760\n",
      " 2700 3920 3300 2340 5460 2940 1836 912 420 4416 8640 7992 7104 3780 5720\n",
      " 7140 1104 4760 4480 576 3510]\n",
      "\n",
      "Unique values in 'Spannung' column:\n",
      "['220-240' '100-277' '30-80' '20-50' '65-75' '60-120' '80-130' '20-90'\n",
      " '70-120' '60-100' '30-120' '40-70' '20-60' '53-77' '48-58' '68-78'\n",
      " '85-95' '80-90' '120-240' '-' 12]\n",
      "\n",
      "Unique values in 'kWh/1000h' column:\n",
      "[18.0 20.0 22.0 19.0 12.0 14.0 15.0 13.0 16.0 8.0 0.0 23.0 21.0 32.0 24.0\n",
      " 36.0 26.0 17.0 11.0 25.0 7.0 5.0 9.0 29.0 43.0 34.0 50.0 65.0 40.0 28.0\n",
      " 42.0 95.0 140.0 4.0 6.0 7.5 3.0 7.3 10.0 2.0 1.0 2.1]\n",
      "\n"
     ]
    }
   ],
   "source": [
    "# Check again unique values in selected columns.\n",
    "for column in df_lamps.columns:\n",
    "    if column not in exclude_columns:\n",
    "        unique_values = df_lamps[column].unique()\n",
    "        print(f\"Unique values in '{column}' column:\")\n",
    "        print(unique_values)\n",
    "        print()"
   ]
  },
  {
   "cell_type": "code",
   "execution_count": 27,
   "metadata": {},
   "outputs": [],
   "source": [
    "# Save the processed data to an Excel file.\n",
    "output_path = \"../../data/02_processed/lamps_processed.xlsx\"\n",
    "df_lamps.to_excel(output_path, index=False)"
   ]
  },
  {
   "cell_type": "markdown",
   "metadata": {},
   "source": [
    "### Setup"
   ]
  },
  {
   "cell_type": "code",
   "execution_count": 28,
   "metadata": {},
   "outputs": [],
   "source": [
    "# Save the processed data to SQL database.\n",
    "dataframe_to_sql(df_lamps, \"lamps\", path_sql_db)"
   ]
  },
  {
   "cell_type": "code",
   "execution_count": 29,
   "metadata": {},
   "outputs": [
    {
     "name": "stdout",
     "output_type": "stream",
     "text": [
      "Table: lamps\n",
      "  Column: Produktkategorie_PK_I\n",
      "  Column: Produktkategorie_PK_II\n",
      "  Column: Produktkategorie_PK_III\n",
      "  Column: LEDtube_Laenge_in_mm\n",
      "  Column: Bestell_Nr\n",
      "  Column: Bezeichnung_lang\n",
      "  Column: Bezeichnung_kurz\n",
      "  Column: Neu\n",
      "  Column: Topseller\n",
      "  Column: Sockel\n",
      "  Column: Betrieb_an\n",
      "  Column: Ersatz_fuer\n",
      "  Column: Leistung\n",
      "  Column: Lichtstrom\n",
      "  Column: Lichtstaerke\n",
      "  Column: Ausfuehrung\n",
      "  Column: Nutzlebensdauer\n",
      "  Column: Dimmbar\n",
      "  Column: Abstrahlwinkel\n",
      "  Column: Ra_Wert_Farbwiedergabe\n",
      "  Column: Farbtemperatur\n",
      "  Column: Rotierende_Endkappen\n",
      "  Column: Garantie\n",
      "  Column: EEL\n",
      "  Column: Verpackungseinheit_VE\n",
      "  Column: Menge_Palette\n",
      "  Column: Spannung\n",
      "  Column: kWh/1000h\n",
      "  Column: eCat_Produktdatenblatt\n",
      "  Column: EU_Verordnung_Produktdatenblatt\n",
      "  Column: EEL_Label\n",
      "\n"
     ]
    }
   ],
   "source": [
    "list_tables_and_columns(str(path_sql_db), True)"
   ]
  },
  {
   "cell_type": "code",
   "execution_count": 30,
   "metadata": {},
   "outputs": [
    {
     "data": {
      "text/plain": [
       "[('MASTER LEDtube 1500mm UE 17,6W 840 T8 ',)]"
      ]
     },
     "execution_count": 30,
     "metadata": {},
     "output_type": "execute_result"
    }
   ],
   "source": [
    "# Test the SQL query execution.\n",
    "sql_query = \"SELECT Bezeichnung_lang FROM lamps LIMIT 1\"\n",
    "execute_sql_query(str(path_sql_db), sql_query)"
   ]
  },
  {
   "cell_type": "markdown",
   "metadata": {},
   "source": [
    "## Vector Database"
   ]
  },
  {
   "cell_type": "markdown",
   "metadata": {},
   "source": [
    "### Document loading"
   ]
  },
  {
   "cell_type": "code",
   "execution_count": 31,
   "metadata": {},
   "outputs": [],
   "source": [
    "tokenizer = BertTokenizer.from_pretrained(\"bert-base-german-cased\")"
   ]
  },
  {
   "cell_type": "code",
   "execution_count": 32,
   "metadata": {},
   "outputs": [
    {
     "name": "stdout",
     "output_type": "stream",
     "text": [
      "Reading PDF: Interact_Pro_Anwendungshandbuch.pdf\n",
      "Reading PDF: Philips_UV-C_Desinfektion_Whitepaper.pdf\n",
      "Reading PDF: Wechselhilfe_fuer_Leuchtstoffroehren_2023.pdf\n",
      "Reading PDF: Philips_Flyer_LED_Umstellung.pdf\n",
      "Reading PDF: 20230829-sf-2-pager-sustainability-de.pdf\n",
      "Reading PDF: 20220525-pager-lighting-trends-de.pdf\n",
      "Reading PDF: 20240123-interact-pro-planungsbroschuere-2023.pdf\n",
      "\n",
      "Doc example: page_content=' \\n1 \\n \\n \\n \\n \\n \\n \\nUser Guide \\n  \\nInteract Pro \\nFoundation (ohne Gateway) \\n&  \\nAdvanced (mit Gateway) \\nVersion August 2021 \\n \\n \\n \\n \\nwww.interact-lighting.com  \\n \\n' metadata={'source': '../../data/01_raw/pdfs/Interact_Pro_Anwendungshandbuch.pdf', 'file_path': '../../data/01_raw/pdfs/Interact_Pro_Anwendungshandbuch.pdf', 'page': 0, 'total_pages': 55, 'format': 'PDF 1.7', 'title': '', 'author': '', 'subject': '', 'keywords': '', 'creator': 'Microsoft® Word for Microsoft 365', 'producer': 'Microsoft® Word for Microsoft 365', 'creationDate': \"D:20210827102213+02'00'\", 'modDate': \"D:20210827102213+02'00'\", 'trapped': ''}\n"
     ]
    }
   ],
   "source": [
    "path_pdfs = Path(\"path/\")\n",
    "documents = load_pdfs(path_pdfs)\n",
    "print(f\"\\nDoc example: {documents[0]}\")\n",
    "\n",
    "text_splitter = RecursiveCharacterTextSplitter(\n",
    "    chunk_size=300,\n",
    "    chunk_overlap=20,\n",
    "    length_function=token_count,\n",
    "    is_separator_regex=False,\n",
    ")\n",
    "\n",
    "pdf_splits = text_splitter.split_documents(documents)"
   ]
  },
  {
   "cell_type": "code",
   "execution_count": 33,
   "metadata": {},
   "outputs": [],
   "source": [
    "# path_json = \"..//data/02_processed/lamps_raw.json\"\n",
    "\n",
    "# json_loader = JSONLoader(\n",
    "#     file_path=path_json, jq_schema=\".[]\", text_content=False, json_lines=True\n",
    "# )\n",
    "\n",
    "# json_data = json_loader.load()"
   ]
  },
  {
   "cell_type": "markdown",
   "metadata": {},
   "source": [
    "### Setup"
   ]
  },
  {
   "cell_type": "code",
   "execution_count": 34,
   "metadata": {},
   "outputs": [
    {
     "name": "stdout",
     "output_type": "stream",
     "text": [
      "170 splits uploaded to the vector store.\n",
      "\n",
      "Example split: 1 \n",
      " \n",
      " \n",
      " \n",
      " \n",
      " \n",
      " \n",
      "User Guide \n",
      "  \n",
      "Interact Pro \n",
      "Foundation (ohne Gateway) \n",
      "&  \n",
      "Advanced (mit Gateway) \n",
      "Version August 2021 \n",
      " \n",
      " \n",
      " \n",
      " \n",
      "www.interact-lighting.com\n"
     ]
    }
   ],
   "source": [
    "embedding_model = HuggingFaceEmbeddings(\n",
    "    model_name=\"intfloat/multilingual-e5-large\",\n",
    "    model_kwargs={\"device\": \"cuda\" if torch.cuda.is_available() else \"cpu\"},\n",
    ")\n",
    "\n",
    "vector_store = setup_vector_store(\n",
    "    path=str(path_chroma_db),\n",
    "    documents=pdf_splits,\n",
    "    collection_name=\"technical_documents\",\n",
    "    embedding_model=embedding_model,\n",
    ")"
   ]
  },
  {
   "cell_type": "code",
   "execution_count": 36,
   "metadata": {},
   "outputs": [
    {
     "name": "stdout",
     "output_type": "stream",
     "text": [
      "Store settings:\n",
      "Collection technical_documents with ID 3b06e76a-81f2-4ac0-90ae-ec4fa33bb081\n",
      "Total number of embeddings: 170\n",
      "Example ['1 \\n \\n \\n \\n \\n \\n \\nUser Guide \\n  \\nInteract Pro \\nFoundation (ohne Gateway) \\n&  \\nAdvanced (mit Gateway) \\nVersion August 2021 \\n \\n \\n \\n \\nwww.interact-lighting.com']\n",
      "\n"
     ]
    }
   ],
   "source": [
    "list_store_infos(vector_store)"
   ]
  },
  {
   "cell_type": "code",
   "execution_count": 37,
   "metadata": {},
   "outputs": [],
   "source": [
    "vector_store.persist()"
   ]
  }
 ],
 "metadata": {
  "kernelspec": {
   "display_name": "thesis-venv",
   "language": "python",
   "name": "python3"
  },
  "language_info": {
   "codemirror_mode": {
    "name": "ipython",
    "version": 3
   },
   "file_extension": ".py",
   "mimetype": "text/x-python",
   "name": "python",
   "nbconvert_exporter": "python",
   "pygments_lexer": "ipython3",
   "version": "3.10.12"
  }
 },
 "nbformat": 4,
 "nbformat_minor": 2
}
